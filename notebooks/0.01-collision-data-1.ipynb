{
 "cells": [
  {
   "cell_type": "code",
   "execution_count": 2,
   "id": "ded845bc-9870-4c35-883f-0bb6210a4a6a",
   "metadata": {},
   "outputs": [],
   "source": [
    "%load_ext autoreload\n",
    "%autoreload 2"
   ]
  },
  {
   "cell_type": "code",
   "execution_count": 5,
   "id": "ee4e8dba-2ba6-4a60-8f1c-c0734bde5dd6",
   "metadata": {},
   "outputs": [
    {
     "ename": "ModuleNotFoundError",
     "evalue": "No module named 'src'",
     "output_type": "error",
     "traceback": [
      "\u001b[1;31m---------------------------------------------------------------------------\u001b[0m",
      "\u001b[1;31mModuleNotFoundError\u001b[0m                       Traceback (most recent call last)",
      "Cell \u001b[1;32mIn[5], line 1\u001b[0m\n\u001b[1;32m----> 1\u001b[0m \u001b[38;5;28;01mfrom\u001b[39;00m\u001b[38;5;250m \u001b[39m\u001b[38;5;21;01msrc\u001b[39;00m\u001b[38;5;21;01m.\u001b[39;00m\u001b[38;5;21;01mdata\u001b[39;00m\u001b[38;5;250m \u001b[39m\u001b[38;5;28;01mimport\u001b[39;00m get_collision_data\n",
      "\u001b[1;31mModuleNotFoundError\u001b[0m: No module named 'src'"
     ]
    }
   ],
   "source": [
    "from src.data import get_collision_data"
   ]
  },
  {
   "cell_type": "code",
   "execution_count": null,
   "id": "99266430-7474-4ce2-8e6f-e654bf80e05b",
   "metadata": {},
   "outputs": [],
   "source": [
    "df = get_collision_data()"
   ]
  },
  {
   "cell_type": "code",
   "execution_count": null,
   "id": "3bee375f-da92-45c5-a6c2-19c43037afa0",
   "metadata": {},
   "outputs": [],
   "source": [
    "df.head()"
   ]
  },
  {
   "cell_type": "code",
   "execution_count": null,
   "id": "24b19b9e-81f5-4c54-b500-1bc9a4ccac76",
   "metadata": {
    "scrolled": true
   },
   "outputs": [],
   "source": [
    "df.info()"
   ]
  },
  {
   "cell_type": "markdown",
   "id": "5e5c3658-ca0d-4b96-814d-b4c1bb8f9475",
   "metadata": {},
   "source": [
    "### Number of missing data points by column"
   ]
  },
  {
   "cell_type": "code",
   "execution_count": null,
   "id": "ff9f5ca0-b14f-4749-bcd6-eaa603adb043",
   "metadata": {
    "scrolled": true
   },
   "outputs": [],
   "source": [
    "df.isna().sum()"
   ]
  },
  {
   "cell_type": "code",
   "execution_count": null,
   "id": "f5780df0-6cf5-4724-bd09-8f80a397a8df",
   "metadata": {},
   "outputs": [],
   "source": [
    "print(f\"No. of duplicated rows: {df.duplicated().sum()}\")"
   ]
  },
  {
   "cell_type": "markdown",
   "id": "e1653077-1c15-453a-8db0-1c29328d0609",
   "metadata": {},
   "source": [
    "### Looking at classes of some features"
   ]
  },
  {
   "cell_type": "code",
   "execution_count": null,
   "id": "5377bbb6-2860-4822-8456-a673af4bfa14",
   "metadata": {},
   "outputs": [],
   "source": [
    "df['ACCLASS'].value_counts()"
   ]
  },
  {
   "cell_type": "code",
   "execution_count": null,
   "id": "d416b341-f55a-48da-95e8-5a1e75278195",
   "metadata": {
    "scrolled": true
   },
   "outputs": [],
   "source": [
    "df.query('ACCLASS == [\"Property Damage O\", \"None\"]')"
   ]
  },
  {
   "cell_type": "code",
   "execution_count": null,
   "id": "17d20202-88ab-4e49-8408-2bd2a4432b0f",
   "metadata": {},
   "outputs": [],
   "source": [
    "df['ROAD_CLASS'].value_counts()"
   ]
  },
  {
   "cell_type": "code",
   "execution_count": null,
   "id": "49165f88-27ec-4c9b-9127-0663207ed05f",
   "metadata": {},
   "outputs": [],
   "source": [
    "df['NEIGHBOURHOOD_158'].value_counts()"
   ]
  },
  {
   "cell_type": "code",
   "execution_count": null,
   "id": "b55ea30a-2656-4391-8295-329cda0c5888",
   "metadata": {
    "scrolled": true
   },
   "outputs": [],
   "source": [
    "df.query('NEIGHBOURHOOD_158 == \"NSA\"')"
   ]
  },
  {
   "cell_type": "code",
   "execution_count": null,
   "id": "3d3f9fe0-4ed4-4c02-ab2a-aa9ba7bb4885",
   "metadata": {},
   "outputs": [],
   "source": [
    "df.query('ROAD_CLASS.isna() | ROAD_CLASS == \"Pending\"')"
   ]
  },
  {
   "cell_type": "code",
   "execution_count": null,
   "id": "31e9f64c-7056-4f25-b249-5e4ac695c7b1",
   "metadata": {},
   "outputs": [],
   "source": []
  }
 ],
 "metadata": {
  "kernelspec": {
   "display_name": "Python 3 (Spyder)",
   "language": "python3",
   "name": "python3"
  },
  "language_info": {
   "codemirror_mode": {
    "name": "ipython",
    "version": 3
   },
   "file_extension": ".py",
   "mimetype": "text/x-python",
   "name": "python",
   "nbconvert_exporter": "python",
   "pygments_lexer": "ipython3",
   "version": "3.12.9"
  }
 },
 "nbformat": 4,
 "nbformat_minor": 5
}
