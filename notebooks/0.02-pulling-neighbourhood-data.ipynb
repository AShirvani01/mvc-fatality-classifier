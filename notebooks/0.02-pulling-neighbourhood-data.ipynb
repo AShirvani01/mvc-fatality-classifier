{
 "cells": [
  {
   "cell_type": "markdown",
   "id": "325577d6-ceba-43b6-b273-a3bcc8b726d4",
   "metadata": {},
   "source": [
    "# Pulling Neighbourhood Data"
   ]
  },
  {
   "cell_type": "code",
   "execution_count": 1,
   "id": "0155485d-1d45-4ebd-9575-46b2818b4064",
   "metadata": {},
   "outputs": [],
   "source": [
    "%load_ext autoreload\n",
    "%autoreload 2"
   ]
  },
  {
   "cell_type": "code",
   "execution_count": 2,
   "id": "98d6b017-a1af-4047-bc30-745b4b39c62c",
   "metadata": {},
   "outputs": [],
   "source": [
    "import pandas as pd\n",
    "import geopandas as gpd\n",
    "import requests\n",
    "import json\n",
    "from arcgis import GIS\n",
    "from config import NEIGHBOURHOODS_PATH"
   ]
  },
  {
   "cell_type": "code",
   "execution_count": 3,
   "id": "6f26683f-31cf-4485-b97d-24a5bf1b55a4",
   "metadata": {},
   "outputs": [],
   "source": [
    "gis = GIS()\n",
    "item_id = \"5913f337900949d9be150ac6f203eefb\"\n",
    "item = gis.content.get(item_id)"
   ]
  },
  {
   "cell_type": "code",
   "execution_count": 4,
   "id": "b207fe2e-89dc-4c72-8549-341eeb8732e9",
   "metadata": {},
   "outputs": [],
   "source": [
    "feature_layer = item.layers[0]\n",
    "url = f\"{feature_layer.url}/query\""
   ]
  },
  {
   "cell_type": "code",
   "execution_count": 5,
   "id": "0c207084-aa14-4d25-a9a1-da46c6f6afac",
   "metadata": {},
   "outputs": [],
   "source": [
    "params = {\n",
    "    'outFields': '*',\n",
    "    'where': '1=1',\n",
    "    'f': 'geojson'\n",
    "}\n",
    "\n",
    "response = requests.get(url, params=params).json()"
   ]
  },
  {
   "cell_type": "markdown",
   "id": "5dc24421-f3a1-49ff-ac88-07d4cd927d88",
   "metadata": {},
   "source": [
    "### Save to geojson file"
   ]
  },
  {
   "cell_type": "code",
   "execution_count": 6,
   "id": "d64069ab-e05c-4dfa-a3ae-769fa5592ad5",
   "metadata": {},
   "outputs": [],
   "source": [
    "with open(NEIGHBOURHOODS_PATH, 'w') as f:\n",
    "    json.dump(response, f)"
   ]
  },
  {
   "cell_type": "code",
   "execution_count": 7,
   "id": "29943da4-4cc5-4835-b1c5-80df9eae79a9",
   "metadata": {},
   "outputs": [],
   "source": [
    "neighbourhood_geodata = gpd.read_file(NEIGHBOURHOODS_PATH).to_crs(crs='EPSG:4326')"
   ]
  },
  {
   "cell_type": "code",
   "execution_count": 8,
   "id": "61c820f5-87de-4c99-a02f-181ba2b43187",
   "metadata": {},
   "outputs": [
    {
     "data": {
      "text/html": [
       "<div>\n",
       "<style scoped>\n",
       "    .dataframe tbody tr th:only-of-type {\n",
       "        vertical-align: middle;\n",
       "    }\n",
       "\n",
       "    .dataframe tbody tr th {\n",
       "        vertical-align: top;\n",
       "    }\n",
       "\n",
       "    .dataframe thead th {\n",
       "        text-align: right;\n",
       "    }\n",
       "</style>\n",
       "<table border=\"1\" class=\"dataframe\">\n",
       "  <thead>\n",
       "    <tr style=\"text-align: right;\">\n",
       "      <th></th>\n",
       "      <th>FID</th>\n",
       "      <th>OCHPPUID</th>\n",
       "      <th>Local_ID</th>\n",
       "      <th>Region</th>\n",
       "      <th>CSDName</th>\n",
       "      <th>NHName</th>\n",
       "      <th>Shape__Area</th>\n",
       "      <th>Shape__Length</th>\n",
       "      <th>geometry</th>\n",
       "    </tr>\n",
       "  </thead>\n",
       "  <tbody>\n",
       "    <tr>\n",
       "      <th>0</th>\n",
       "      <td>1</td>\n",
       "      <td>1</td>\n",
       "      <td>1</td>\n",
       "      <td>Toronto</td>\n",
       "      <td>Toronto</td>\n",
       "      <td>West Humber-Clairville</td>\n",
       "      <td>5.745883e+07</td>\n",
       "      <td>38663.483725</td>\n",
       "      <td>POLYGON ((-79.57747 43.73375, -79.57733 43.733...</td>\n",
       "    </tr>\n",
       "    <tr>\n",
       "      <th>1</th>\n",
       "      <td>2</td>\n",
       "      <td>2</td>\n",
       "      <td>2</td>\n",
       "      <td>Toronto</td>\n",
       "      <td>Toronto</td>\n",
       "      <td>Mount Olive-Silverstone-Jamestown</td>\n",
       "      <td>8.832597e+06</td>\n",
       "      <td>18405.253511</td>\n",
       "      <td>POLYGON ((-79.56861 43.74625, -79.56872 43.746...</td>\n",
       "    </tr>\n",
       "    <tr>\n",
       "      <th>2</th>\n",
       "      <td>3</td>\n",
       "      <td>3</td>\n",
       "      <td>3</td>\n",
       "      <td>Toronto</td>\n",
       "      <td>Toronto</td>\n",
       "      <td>Thistletown-Beaumond Heights</td>\n",
       "      <td>6.517322e+06</td>\n",
       "      <td>14745.957217</td>\n",
       "      <td>POLYGON ((-79.54885 43.73284, -79.54888 43.732...</td>\n",
       "    </tr>\n",
       "    <tr>\n",
       "      <th>3</th>\n",
       "      <td>4</td>\n",
       "      <td>4</td>\n",
       "      <td>4</td>\n",
       "      <td>Toronto</td>\n",
       "      <td>Toronto</td>\n",
       "      <td>Rexdale-Kipling</td>\n",
       "      <td>4.776504e+06</td>\n",
       "      <td>9800.495971</td>\n",
       "      <td>POLYGON ((-79.56211 43.73004, -79.562 43.72979...</td>\n",
       "    </tr>\n",
       "    <tr>\n",
       "      <th>4</th>\n",
       "      <td>5</td>\n",
       "      <td>5</td>\n",
       "      <td>5</td>\n",
       "      <td>Toronto</td>\n",
       "      <td>Toronto</td>\n",
       "      <td>Elms-Old Rexdale</td>\n",
       "      <td>5.585157e+06</td>\n",
       "      <td>12959.596251</td>\n",
       "      <td>POLYGON ((-79.54423 43.73237, -79.54412 43.732...</td>\n",
       "    </tr>\n",
       "  </tbody>\n",
       "</table>\n",
       "</div>"
      ],
      "text/plain": [
       "   FID  ...                                           geometry\n",
       "0    1  ...  POLYGON ((-79.57747 43.73375, -79.57733 43.733...\n",
       "1    2  ...  POLYGON ((-79.56861 43.74625, -79.56872 43.746...\n",
       "2    3  ...  POLYGON ((-79.54885 43.73284, -79.54888 43.732...\n",
       "3    4  ...  POLYGON ((-79.56211 43.73004, -79.562 43.72979...\n",
       "4    5  ...  POLYGON ((-79.54423 43.73237, -79.54412 43.732...\n",
       "\n",
       "[5 rows x 9 columns]"
      ]
     },
     "execution_count": 8,
     "metadata": {},
     "output_type": "execute_result"
    }
   ],
   "source": [
    "neighbourhood_geodata.head()"
   ]
  }
 ],
 "metadata": {
  "kernelspec": {
   "display_name": "Python 3 (Spyder)",
   "language": "python3",
   "name": "python3"
  },
  "language_info": {
   "codemirror_mode": {
    "name": "ipython",
    "version": 3
   },
   "file_extension": ".py",
   "mimetype": "text/x-python",
   "name": "python",
   "nbconvert_exporter": "python",
   "pygments_lexer": "ipython3",
   "version": "3.12.9"
  }
 },
 "nbformat": 4,
 "nbformat_minor": 5
}
